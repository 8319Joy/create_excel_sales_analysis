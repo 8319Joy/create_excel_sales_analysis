{
 "cells": [
  {
   "cell_type": "code",
   "execution_count": 1,
   "id": "5df5da9a",
   "metadata": {},
   "outputs": [
    {
     "name": "stdout",
     "output_type": "stream",
     "text": [
      "Defaulting to user installation because normal site-packages is not writeable\n",
      "Requirement already satisfied: pandas in c:\\programdata\\anaconda3\\lib\\site-packages (1.5.3)\n",
      "Requirement already satisfied: openpyxl in c:\\programdata\\anaconda3\\lib\\site-packages (3.0.10)\n",
      "Requirement already satisfied: python-dateutil>=2.8.1 in c:\\programdata\\anaconda3\\lib\\site-packages (from pandas) (2.8.2)\n",
      "Requirement already satisfied: pytz>=2020.1 in c:\\programdata\\anaconda3\\lib\\site-packages (from pandas) (2022.7)\n",
      "Requirement already satisfied: numpy>=1.21.0 in c:\\programdata\\anaconda3\\lib\\site-packages (from pandas) (1.24.3)\n",
      "Requirement already satisfied: et_xmlfile in c:\\programdata\\anaconda3\\lib\\site-packages (from openpyxl) (1.1.0)\n",
      "Requirement already satisfied: six>=1.5 in c:\\programdata\\anaconda3\\lib\\site-packages (from python-dateutil>=2.8.1->pandas) (1.16.0)\n",
      "Note: you may need to restart the kernel to use updated packages.\n"
     ]
    }
   ],
   "source": [
    "pip install pandas openpyxl"
   ]
  },
  {
   "cell_type": "raw",
   "id": "9cbc53f3",
   "metadata": {},
   "source": [
    "# To create an Excel sheet for sales data analysis in Python, we can utilize the pandas library for handling the data and openpyxl for writing to Excel files. Here's a step-by-step example to help you get started:\n",
    "\n",
    "Install the Required Libraries:\n",
    "Make sure you have pandas and openpyxl installed. You can install them using pip:"
   ]
  },
  {
   "cell_type": "code",
   "execution_count": 6,
   "id": "0cb0d271",
   "metadata": {},
   "outputs": [
    {
     "name": "stdout",
     "output_type": "stream",
     "text": [
      "Defaulting to user installation because normal site-packages is not writeableNote: you may need to restart the kernel to use updated packages.\n",
      "\n",
      "Requirement already satisfied: pandas in c:\\programdata\\anaconda3\\lib\\site-packages (1.5.3)\n",
      "Requirement already satisfied: openpyxl in c:\\programdata\\anaconda3\\lib\\site-packages (3.0.10)\n",
      "Requirement already satisfied: python-dateutil>=2.8.1 in c:\\programdata\\anaconda3\\lib\\site-packages (from pandas) (2.8.2)\n",
      "Requirement already satisfied: pytz>=2020.1 in c:\\programdata\\anaconda3\\lib\\site-packages (from pandas) (2022.7)\n",
      "Requirement already satisfied: numpy>=1.21.0 in c:\\programdata\\anaconda3\\lib\\site-packages (from pandas) (1.24.3)\n",
      "Requirement already satisfied: et_xmlfile in c:\\programdata\\anaconda3\\lib\\site-packages (from openpyxl) (1.1.0)\n",
      "Requirement already satisfied: six>=1.5 in c:\\programdata\\anaconda3\\lib\\site-packages (from python-dateutil>=2.8.1->pandas) (1.16.0)\n"
     ]
    }
   ],
   "source": [
    "pip install pandas openpyxl"
   ]
  },
  {
   "cell_type": "markdown",
   "id": "58fbc030",
   "metadata": {},
   "source": [
    "Prepare Your Sales Data:\n",
    "Let's assume you have some sales data in a CSV file or you can create a DataFrame manually.\n",
    "\n",
    "Load the Data and Analyze It:\n",
    "Perform basic analysis like calculating total sales, average sales, and sales by product.\n",
    "\n",
    "Save the Analysis to an Excel File:\n",
    "Use openpyxl to write the analyzed data to an Excel sheet."
   ]
  },
  {
   "cell_type": "code",
   "execution_count": 19,
   "id": "37ba4cc8",
   "metadata": {},
   "outputs": [
    {
     "name": "stdout",
     "output_type": "stream",
     "text": [
      "Sales analysis has been saved to 'sales_analysis.xlsx'\n"
     ]
    }
   ],
   "source": [
    "import pandas as pd\n",
    "\n",
    "# Sample sales data\n",
    "data = {\n",
    "    'Product': ['A', 'B', 'C', 'A', 'B', 'C', 'A', 'B', 'C'],\n",
    "    'Region': ['North', 'North', 'North', 'South', 'South', 'South', 'East', 'East', 'East'],\n",
    "    'Sales': [150, 200, 300, 100, 250, 350, 200, 150, 100],\n",
    "    'Date': ['2024-01-01', '2024-01-01', '2024-01-01', '2024-02-01', '2024-02-01', '2024-02-01', '2024-03-01', '2024-03-01', '2024-03-01']\n",
    "}\n",
    "\n",
    "# Create a DataFrame\n",
    "df = pd.DataFrame(data)\n",
    "\n",
    "# Perform analysis\n",
    "total_sales = df.groupby('Product')['Sales'].sum()\n",
    "average_sales = df.groupby('Product')['Sales'].mean()\n",
    "sales_by_region = df.groupby('Region')['Sales'].sum()\n",
    "\n",
    "# Create a summary DataFrame\n",
    "summary = pd.DataFrame({\n",
    "    'Total Sales': total_sales,\n",
    "    'Average Sales': average_sales\n",
    "})\n",
    "\n",
    "# Write to Excel\n",
    "with pd.ExcelWriter('sales_analysis.xlsx', engine='openpyxl') as writer:\n",
    "    df.to_excel(writer, sheet_name='Raw Data', index=False)\n",
    "    summary.to_excel(writer, sheet_name='Summary')\n",
    "    sales_by_region.to_excel(writer, sheet_name='Sales by Region')\n",
    "\n",
    "print(\"Sales analysis has been saved to 'sales_analysis.xlsx'\")\n"
   ]
  },
  {
   "cell_type": "code",
   "execution_count": null,
   "id": "765c25ec",
   "metadata": {},
   "outputs": [],
   "source": []
  },
  {
   "cell_type": "code",
   "execution_count": null,
   "id": "aa637b85",
   "metadata": {},
   "outputs": [],
   "source": []
  },
  {
   "cell_type": "code",
   "execution_count": null,
   "id": "ab3fe088",
   "metadata": {},
   "outputs": [],
   "source": []
  }
 ],
 "metadata": {
  "kernelspec": {
   "display_name": "Python 3 (ipykernel)",
   "language": "python",
   "name": "python3"
  },
  "language_info": {
   "codemirror_mode": {
    "name": "ipython",
    "version": 3
   },
   "file_extension": ".py",
   "mimetype": "text/x-python",
   "name": "python",
   "nbconvert_exporter": "python",
   "pygments_lexer": "ipython3",
   "version": "3.11.4"
  }
 },
 "nbformat": 4,
 "nbformat_minor": 5
}
